{
  "nbformat": 4,
  "nbformat_minor": 0,
  "metadata": {
    "colab": {
      "name": "se_ecd_eda.ipynb",
      "provenance": [],
      "collapsed_sections": [],
      "mount_file_id": "1xC4imkyEq0j17wR8OXhSsXIcXQoSVMYn",
      "authorship_tag": "ABX9TyNUBQygXI+dz3cwzgFzvBVS",
      "include_colab_link": true
    },
    "kernelspec": {
      "name": "python3",
      "display_name": "Python 3"
    },
    "language_info": {
      "name": "python"
    }
  },
  "cells": [
    {
      "cell_type": "markdown",
      "metadata": {
        "id": "view-in-github",
        "colab_type": "text"
      },
      "source": [
        "<a href=\"https://colab.research.google.com/github/curiotiks/webspace/blob/main/self-efficacy/se_ecd_eda.ipynb\" target=\"_parent\"><img src=\"https://colab.research.google.com/assets/colab-badge.svg\" alt=\"Open In Colab\"/></a>"
      ]
    },
    {
      "cell_type": "code",
      "metadata": {
        "id": "L_gCrLWW0ZEC"
      },
      "source": [
        "%load_ext rpy2.ipython "
      ],
      "execution_count": null,
      "outputs": []
    },
    {
      "cell_type": "code",
      "metadata": {
        "id": "uvrt7uuZwj_1"
      },
      "source": [
        "%%capture\n",
        "%%R\n",
        "install.packages(\"BayesFM\")\n",
        "install.packages(\"reshape\")"
      ],
      "execution_count": null,
      "outputs": []
    },
    {
      "cell_type": "code",
      "metadata": {
        "id": "bNcgjTmZ0t8C"
      },
      "source": [
        "%%capture\n",
        "%%R\n",
        "library(tidyverse)\n",
        "library(reshape)\n",
        "library(BayesFM)\n",
        "path <- \"/content/drive/MyDrive/(ECD) Self-efficacy Measurement/se_ecd\""
      ],
      "execution_count": null,
      "outputs": []
    },
    {
      "cell_type": "code",
      "metadata": {
        "colab": {
          "base_uri": "https://localhost:8080/"
        },
        "id": "LOxS9sfG1BO6",
        "outputId": "cb085cf7-ac1a-4a07-ad4c-5a19225a19d1"
      },
      "source": [
        "%%R\n",
        "twine <-\n",
        "    read.csv(paste0(path,\"/twine_data.csv\")) %>%\n",
        "    mutate(across(.cols = choice_1:choice_9, ~factor(.x, levels = c(\"Low\", \"Medium\", \"High\"))))\n",
        "\n",
        "table(twine$choice_1:twine$choice_9)"
      ],
      "execution_count": null,
      "outputs": [
        {
          "output_type": "stream",
          "name": "stdout",
          "text": [
            "\n",
            "      Low:Low    Low:Medium      Low:High    Medium:Low Medium:Medium \n",
            "            0             0             0             1             0 \n",
            "  Medium:High      High:Low   High:Medium     High:High \n",
            "            1             0             5             2 \n"
          ]
        }
      ]
    },
    {
      "cell_type": "markdown",
      "metadata": {
        "id": "9KhgjiTdDj4X"
      },
      "source": [
        "From the table, it looks like most ranked themselves pretty high. I would expect something similar from the Qualtrics as well. I can make comparisons between individual columns. But I was to run an EFA model first."
      ]
    },
    {
      "cell_type": "code",
      "metadata": {
        "id": "Aqa2jeU9D4dS",
        "colab": {
          "base_uri": "https://localhost:8080/"
        },
        "outputId": "441693e8-39fb-43d7-ff56-f79ca51564de"
      },
      "source": [
        "%%R\n",
        "num_twine <-\n",
        "    twine %>%\n",
        "    mutate(across(.cols = choice_1:choice_9, ~as.numeric(.x))) %>%\n",
        "    select(choice_1:choice_9)\n",
        "num_twine"
      ],
      "execution_count": null,
      "outputs": [
        {
          "output_type": "stream",
          "name": "stdout",
          "text": [
            "  choice_1 choice_2 choice_3 choice_4 choice_5 choice_6 choice_7 choice_8\n",
            "1        2        3        2        3        2        3        3        2\n",
            "2        3        3        2        3        3        3        3        3\n",
            "3        3        1        1        2        3        3        3        3\n",
            "4        2        2        2        2        2        3        3        2\n",
            "5        3        3        2        3        2        3        3        3\n",
            "6        3        3        1        3        3        3        2        3\n",
            "7        3        1        2        2        3        3        3        2\n",
            "8        3        2        2        1        3        3        3        3\n",
            "9        3        2        1        3        3        3        2        3\n",
            "  choice_9\n",
            "1        1\n",
            "2        3\n",
            "3        2\n",
            "4        3\n",
            "5        2\n",
            "6        2\n",
            "7        2\n",
            "8        2\n",
            "9        3\n"
          ]
        }
      ]
    },
    {
      "cell_type": "markdown",
      "metadata": {
        "id": "PxHXrj-YKFce"
      },
      "source": [
        "# Correlation\n",
        "* I've dropped `choice_6` because everyone answered \"high\", so it's returning NA when I try to do anything with it\n",
        "* Recoding the \"high\", \"medium\", and \"low\" factors to 3, 2, and 1 respectively. "
      ]
    },
    {
      "cell_type": "code",
      "metadata": {
        "colab": {
          "base_uri": "https://localhost:8080/",
          "height": 497
        },
        "id": "ga4TCV4tJFQu",
        "outputId": "74c66196-0856-4e83-bd2a-c5ecd9b89c5b"
      },
      "source": [
        "%%R\n",
        "cor <- cor(num_twine[-6]) %>% round(., 2)\n",
        "cor <- reshape::melt(cor) %>% arrange(value)\n",
        "\n",
        "ggplot2::ggplot(data = cor,\n",
        "                aes(x = X1,\n",
        "                    y = X2, \n",
        "                    fill = value)) +\n",
        "                geom_tile(color = \"black\") +\n",
        "                geom_text(aes(label = value), color = \"white\", size = 4) +\n",
        "                coord_fixed()"
      ],
      "execution_count": null,
      "outputs": [
        {
          "output_type": "display_data",
          "data": {
            "image/png": "[encoded data removed]"
          },
          "metadata": {}
        }
      ]
    },
    {
      "cell_type": "markdown",
      "metadata": {
        "id": "1W6dU4KrzM5G"
      },
      "source": [
        "* I already decided `choice_6` was no good. Everyone answers high.\n",
        "* `Choice_7` seems to be poorly correlated with most of the other questions. \n",
        "* `Choice_3` is another that doesn't seem to fit well with many others. \n",
        "* But `Choice_3` and `choice_7` seemed to be related (*r* = .76)\n",
        "\n",
        "The issue with `choice_6` may have been that it was too procedural. The question was asking about calculating points needed to pass a test. This may have been too basic of a skill that most participants would feel comfortable completing the procedure.\n",
        "\n",
        "> C6: Five grammar tests are to be given to your English class. Each test has a value of 30 points. You have to have an average of higher than 80% on all the tests to pass this course. \n",
        "\n",
        "For `choice_3` and `choice_7`:\n",
        "\n",
        "> C3: Course enrollment for the next semester has opened and you are enrolling. Earlier in the afternoon another student told you that the three available courses are quite different. The course taught by Dr. Sim’s course is easy to pass with little effort. Dr. Rogers requires decent work, but is manageable. Dr. Torrin’s class, however, requires a lot of work and her tests are hard but you will learn. \n",
        "\n",
        "> C7: You just graduated and are looking for a job. Finally, an offer comes, but it’s a job you didn’t think you could get. The job pays well, but requires working with more technical details than you anticipated. You’ll be working with quite a few mathematical processes you’re not sure you remember. \n",
        "\n",
        "`choice_7` is mostly \"high\", but this could be related to the incentive of financial gain, as we suspected. I'm also not surprised by `choice_3`. I would expect only those with the highest efficacy would choose the harder class. But nearly everyone selected \"medium\". Again, this may be more related to the burden of taking classes rather than personal challenge. If we surveyed STEM majors, the responses may be different.\n"
      ]
    },
    {
      "cell_type": "markdown",
      "metadata": {
        "id": "vFMn8qql4W3I"
      },
      "source": [
        "# Factor Analysis"
      ]
    },
    {
      "cell_type": "code",
      "metadata": {
        "colab": {
          "base_uri": "https://localhost:8080/"
        },
        "id": "pfTYasi64k2r",
        "outputId": "6025e80b-6ec0-4968-eaa4-24fe655524d2"
      },
      "source": [
        "%%R\n",
        "model <- befa(num_twine,\n",
        "              burnin = 10000,\n",
        "              iter = 1000000)\n",
        "post_model <- post.column.switch(model)\n",
        "post_model <- post.sign.switch(post_model)\n",
        "summary(post_model)"
      ],
      "execution_count": null,
      "outputs": [
        {
          "output_type": "stream",
          "name": "stdout",
          "text": [
            "starting MCMC sampling...\n",
            "done with burn-in period\n",
            "    5%\n",
            "   10%\n",
            "   15%\n",
            "   20%\n",
            "   25%\n",
            "   30%\n",
            "   35%\n",
            "   40%\n",
            "   45%\n",
            "   50%\n",
            "   55%\n",
            "   60%\n",
            "   65%\n",
            "   70%\n",
            "   75%\n",
            "   80%\n",
            "   85%\n",
            "   90%\n",
            "   95%\n",
            "  100%\n",
            "done with sampling!\n",
            "BEFA - Bayesian Exploratory Factor Analysis\n",
            "Summary of posterior results\n",
            "\n",
            "Maximum number of factors (Kmax) = 3 \n",
            "Identification restriction (Nid) = 3 \n",
            "\n",
            "MCMC iterations = 1e+06 \n",
            "burn-in period  = 10000 \n",
            "\n",
            "Metropolis-Hastings acceptance rate = 0.95\n",
            "\n",
            "Posterior frequency of number of latent factors:\n",
            "  K =  1     98.51%\n",
            "\n",
            "-----------------------------------------------------------------\n",
            "Model parameters\n",
            "\n",
            "Factor loadings:\n",
            "\n",
            "                 dedic    prob    mean      sd   [ 95%   hpd ]\n",
            "alpha:choice_1       1   1.000   2.979   0.802   1.681   4.577\n",
            "alpha:choice_2       1   0.990   2.387   0.693   1.235   3.768\n",
            "alpha:choice_3       1   0.991   1.773   0.518   0.915   2.815\n",
            "alpha:choice_4       1   0.991   2.619   0.737   1.422   4.107\n",
            "alpha:choice_5       1   0.995   2.857   0.777   1.607   4.416\n",
            "alpha:choice_6       1   0.993   3.197   0.853   1.824   4.904\n",
            "alpha:choice_7       1   0.992   2.954   0.805   1.647   4.561\n",
            "alpha:choice_8       1   0.994   2.867   0.776   1.613   4.419\n",
            "alpha:choice_9       1   0.993   2.388   0.673   1.292   3.735\n",
            "\n",
            "Idiosyncratic variances:\n",
            "\n",
            "                  mean      sd   [ 95%   hpd ]\n",
            "sigma:choice_1   0.389   0.200   0.119   0.768\n",
            "sigma:choice_2   0.723   0.358   0.238   1.400\n",
            "sigma:choice_3   0.429   0.210   0.146   0.828\n",
            "sigma:choice_4   0.631   0.313   0.204   1.229\n",
            "sigma:choice_5   0.443   0.225   0.139   0.874\n",
            "sigma:choice_6   0.363   0.189   0.114   0.720\n",
            "sigma:choice_7   0.503   0.257   0.156   0.990\n",
            "sigma:choice_8   0.403   0.205   0.125   0.792\n",
            "sigma:choice_9   0.537   0.265   0.176   1.042\n",
            "\n",
            "Factor correlation matrix:\n",
            "\n",
            "          mean      sd    [ 95%   hpd ]\n",
            "R:1:2    0.000   0.589   -1.000   0.916\n",
            "R:1:3   -0.001   0.587   -1.000   0.912\n",
            "R:2:3    0.000   0.585   -0.911   1.000\n",
            "\n"
          ]
        }
      ]
    },
    {
      "cell_type": "markdown",
      "metadata": {
        "id": "DJi0ceEl_yul"
      },
      "source": [
        "# Relation with objective measure (i.e., Qualtrics)\n"
      ]
    },
    {
      "cell_type": "code",
      "metadata": {
        "id": "lXc22sZSfCfC"
      },
      "source": [
        "%%R\n",
        "q_levels <- c(\"Not at all confident\", \"Slightly confident\", \"Moderately confident\", \"Very confident\", \"Completely confident\")\n",
        "edu_levels <- c(\"Less than high school degree\", \"High school graduate (high school diploma or equivalent including GED)\", \n",
        "                \"Some college but no degree\", \"Associate degree in college (2-year)\", \"Bachelor's degree in college (4-year)\", \n",
        "                \"Master's degree\", \"Doctoral degree\", \"Professional degree (JD, MD)\")\n",
        "qu <- \n",
        "    read.csv(paste0(path, \"/qualtrics.csv\")) %>%\n",
        "    select(uid:major) %>%\n",
        "    mutate(\n",
        "        across(.cols = Q1:Q16, ~as.numeric(factor(.x, levels = q_levels))),\n",
        "        education = factor(education, levels = edu_levels),\n",
        "        race = factor(race, levels = c(\"Asian\", \"White\")),\n",
        "        gender = factor(gender, levels = c(\"Male\", \"Female\")),\n",
        "        income = factor(income), \n",
        "        stem_major = ifelse(stem_major == \"Yes\", TRUE, FALSE)\n",
        "        )"
      ],
      "execution_count": null,
      "outputs": []
    },
    {
      "cell_type": "code",
      "metadata": {
        "colab": {
          "base_uri": "https://localhost:8080/",
          "height": 0
        },
        "id": "crIgM3BLsUCN",
        "outputId": "2bc92ce6-37fd-4820-f265-332e9e51fad3"
      },
      "source": [
        "%%R\n",
        "\n",
        "df <-\n",
        "    twine %>%\n",
        "    select(-c(Timestamp)) %>%\n",
        "    mutate(across(.cols = choice_1:choice_9, ~as.numeric(.x))) %>%\n",
        "    left_join(qu, ., by = \"uid\") %>%\n",
        "    rowwise() %>%\n",
        "    mutate(sb_comp = sum(choice_1:choice_9),\n",
        "           obj_comp = sum(Q1:Q16, na.rm = TRUE)\n",
        "           )\n",
        "\n",
        "df$sb_comp_z <- round(scale(df$sb_comp)[,1],3)\n",
        "df$obj_comp_z <- round(scale(df$obj_comp)[,1],3)\n",
        "\n",
        "cor(df$sb_comp, df$obj_comp, use = \"complete.obs\", method = \"spearman\")"
      ],
      "execution_count": 139,
      "outputs": [
        {
          "output_type": "stream",
          "name": "stdout",
          "text": [
            "[1] 0.1710798\n"
          ]
        }
      ]
    },
    {
      "cell_type": "code",
      "metadata": {
        "colab": {
          "base_uri": "https://localhost:8080/",
          "height": 497
        },
        "id": "HSk9cDR40VTI",
        "outputId": "9ec5fcda-d6dd-4e3b-c492-4af29b133fc6"
      },
      "source": [
        "%%R\n",
        "df %>%\n",
        "ggplot(aes(x = sb_comp, y = obj_comp)) +\n",
        "geom_point()"
      ],
      "execution_count": 142,
      "outputs": [
        {
          "output_type": "display_data",
          "data": {
            "image/png": "[encoded data removed]"
          },
          "metadata": {}
        }
      ]
    },
    {
      "cell_type": "markdown",
      "metadata": {
        "id": "8tz8hiSi0tOe"
      },
      "source": [
        "So, not great. Could be an issue with sample size. Obviously we don't have enough various to say anything definitive. But what is here is not great. "
      ]
    },
    {
      "cell_type": "code",
      "metadata": {
        "colab": {
          "base_uri": "https://localhost:8080/",
          "height": 0
        },
        "id": "AQw2-t8u05uZ",
        "outputId": "51f9904f-ed5c-4c28-e206-0c8782e570f4"
      },
      "source": [
        "%%R\n",
        "df_factors <- df %>% select(choice_1:choice_9, Q1:Q16)\n",
        "model <- befa(df_factors,\n",
        "              burnin = 10000,\n",
        "              iter = 1000000)\n",
        "post_model <- post.column.switch(model)\n",
        "post_model <- post.sign.switch(post_model)\n",
        "summary(post_model) "
      ],
      "execution_count": 144,
      "outputs": [
        {
          "output_type": "stream",
          "name": "stdout",
          "text": [
            "starting MCMC sampling...\n",
            "done with burn-in period\n",
            "    5%\n",
            "   10%\n",
            "   15%\n",
            "   20%\n",
            "   25%\n",
            "   30%\n",
            "   35%\n",
            "   40%\n",
            "   45%\n",
            "   50%\n",
            "   55%\n",
            "   60%\n",
            "   65%\n",
            "   70%\n",
            "   75%\n",
            "   80%\n",
            "   85%\n",
            "   90%\n",
            "   95%\n",
            "  100%\n",
            "done with sampling!\n",
            "BEFA - Bayesian Exploratory Factor Analysis\n",
            "Summary of posterior results\n",
            "\n",
            "Maximum number of factors (Kmax) = 8 \n",
            "Identification restriction (Nid) = 3 \n",
            "\n",
            "MCMC iterations = 1e+06 \n",
            "burn-in period  = 10000 \n",
            "\n",
            "Metropolis-Hastings acceptance rate = 0.759\n",
            "\n",
            "Posterior frequency of number of latent factors:\n",
            "  K =  1     49.90%\n",
            "  K =  2     31.18%\n",
            "  K =  3     15.78%\n",
            "\n",
            "-----------------------------------------------------------------\n",
            "Model parameters\n",
            "\n",
            "Factor loadings:\n",
            "\n",
            "                 dedic    prob    mean      sd   [ 95%   hpd ]\n",
            "alpha:choice_1       1   1.000   2.764   0.793   1.479   4.335\n",
            "alpha:choice_2       1   0.746   2.205   0.685   1.078   3.576\n",
            "alpha:choice_3       1   0.801   1.696   0.515   0.853   2.723\n",
            "alpha:choice_4       1   0.832   2.448   0.729   1.265   3.904\n",
            "alpha:choice_5       1   0.932   2.773   0.797   1.501   4.363\n",
            "alpha:choice_6       1   0.916   3.038   0.853   1.662   4.721\n",
            "alpha:choice_7       1   0.871   2.820   0.801   1.534   4.407\n",
            "alpha:choice_8       1   0.926   2.653   0.766   1.409   4.175\n",
            "alpha:choice_9       1   0.884   2.321   0.686   1.206   3.689\n",
            "alpha:Q1             1   0.804   3.979   1.161   2.110   6.296\n",
            "alpha:Q2             1   0.847   4.099   1.142   2.281   6.369\n",
            "alpha:Q3             1   0.750   3.512   1.040   1.806   5.569\n",
            "alpha:Q4             1   0.586   3.136   0.927   1.635   4.975\n",
            "alpha:Q5             1   0.885   4.422   1.244   2.437   6.904\n",
            "alpha:Q6             1   0.761   3.658   1.072   1.938   5.797\n",
            "alpha:Q7             1   0.864   4.585   1.270   2.566   7.110\n",
            "alpha:Q8             1   0.887   3.682   1.048   2.001   5.766\n",
            "alpha:Q9             1   0.591   3.262   0.950   1.743   5.162\n",
            "alpha:Q10            1   0.800   3.870   1.092   2.123   6.032\n",
            "alpha:Q11            1   0.578   2.868   0.888   1.419   4.656\n",
            "alpha:Q12            1   0.832   4.341   1.229   2.375   6.789\n",
            "alpha:Q13            1   0.875   4.577   1.267   2.564   7.095\n",
            "alpha:Q14            1   0.815   3.859   1.087   2.107   6.011\n",
            "alpha:Q15            1   0.788   4.265   1.205   2.344   6.665\n",
            "alpha:Q16            1   0.586   3.537   1.031   1.893   5.592\n",
            "\n",
            "Idiosyncratic variances:\n",
            "\n",
            "                  mean      sd   [ 95%   hpd ]\n",
            "sigma:choice_1   0.643   0.347   0.166   1.294\n",
            "sigma:choice_2   0.759   0.405   0.236   1.502\n",
            "sigma:choice_3   0.393   0.205   0.128   0.772\n",
            "sigma:choice_4   0.690   0.359   0.217   1.361\n",
            "sigma:choice_5   0.644   0.348   0.175   1.302\n",
            "sigma:choice_6   0.513   0.276   0.151   1.033\n",
            "sigma:choice_7   0.510   0.270   0.155   1.017\n",
            "sigma:choice_8   0.637   0.343   0.177   1.286\n",
            "sigma:choice_9   0.602   0.316   0.186   1.188\n",
            "sigma:Q1         1.386   0.728   0.416   2.765\n",
            "sigma:Q2         0.696   0.385   0.201   1.416\n",
            "sigma:Q3         1.210   0.648   0.331   2.438\n",
            "sigma:Q4         0.689   0.423   0.133   1.476\n",
            "sigma:Q5         1.088   0.597   0.306   2.208\n",
            "sigma:Q6         1.128   0.619   0.272   2.299\n",
            "sigma:Q7         0.746   0.425   0.206   1.535\n",
            "sigma:Q8         0.927   0.492   0.274   1.853\n",
            "sigma:Q9         0.641   0.388   0.134   1.360\n",
            "sigma:Q10        0.733   0.403   0.202   1.487\n",
            "sigma:Q11        0.939   0.602   0.157   2.030\n",
            "sigma:Q12        0.928   0.556   0.234   1.962\n",
            "sigma:Q13        0.769   0.433   0.214   1.580\n",
            "sigma:Q14        0.766   0.419   0.218   1.554\n",
            "sigma:Q15        0.897   0.501   0.228   1.830\n",
            "sigma:Q16        0.734   0.444   0.147   1.561\n",
            "\n",
            "Factor correlation matrix:\n",
            "\n",
            "          mean      sd    [ 95%   hpd ]\n",
            "R:1:2    0.003   0.782   -0.991   0.990\n",
            "R:1:3   -0.002   0.737   -0.992   0.989\n",
            "R:1:4    0.000   0.719   -0.979   1.000\n",
            "R:1:5    0.001   0.717   -0.979   1.000\n",
            "R:1:6    0.001   0.716   -0.979   1.000\n",
            "R:1:7    0.002   0.716   -0.979   1.000\n",
            "R:1:8    0.001   0.716   -1.000   0.979\n",
            "R:2:3   -0.002   0.734   -0.998   0.982\n",
            "R:2:4    0.000   0.716   -1.000   0.978\n",
            "R:2:5   -0.001   0.714   -1.000   0.978\n",
            "R:2:6   -0.001   0.713   -0.978   1.000\n",
            "R:2:7    0.000   0.713   -1.000   0.978\n",
            "R:2:8    0.001   0.713   -0.978   1.000\n",
            "R:3:4   -0.001   0.692   -1.000   0.975\n",
            "R:3:5    0.000   0.689   -1.000   0.975\n",
            "R:3:6    0.000   0.689   -1.000   0.975\n",
            "R:3:7   -0.001   0.688   -1.000   0.975\n",
            "R:3:8    0.001   0.689   -0.974   1.000\n",
            "R:4:5    0.000   0.677   -0.972   1.000\n",
            "R:4:6    0.000   0.677   -1.000   0.972\n",
            "R:4:7   -0.001   0.676   -0.972   1.000\n",
            "R:4:8   -0.001   0.676   -1.000   0.972\n",
            "R:5:6    0.001   0.675   -0.972   1.000\n",
            "R:5:7   -0.001   0.674   -1.000   0.971\n",
            "R:5:8    0.000   0.675   -1.000   0.971\n",
            "R:6:7   -0.001   0.674   -1.000   0.971\n",
            "R:6:8    0.000   0.675   -1.000   0.971\n",
            "R:7:8   -0.001   0.674   -1.000   0.971\n",
            "\n"
          ]
        }
      ]
    }
  ]
}