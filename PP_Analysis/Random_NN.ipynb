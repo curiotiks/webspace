{
 "cells": [
  {
   "cell_type": "code",
   "execution_count": 116,
   "metadata": {
    "pycharm": {
     "name": "#%%\n"
    }
   },
   "outputs": [],
   "source": [
    "import pandas as pd\n",
    "import numpy as np\n",
    "from sklearn.model_selection import train_test_split\n",
    "from matplotlib import pyplot as plt\n",
    "%matplotlib inline\n",
    "from keras.models import Sequential\n",
    "from keras.layers import Dense"
   ]
  },
  {
   "cell_type": "code",
   "execution_count": 117,
   "metadata": {
    "pycharm": {
     "name": "#%%\n"
    }
   },
   "outputs": [
    {
     "name": "stderr",
     "output_type": "stream",
     "text": [
      "/Users/cfulsong/anaconda3/lib/python3.7/site-packages/pandas/core/arraylike.py:364: RuntimeWarning: divide by zero encountered in log\n",
      "  result = getattr(ufunc, method)(*inputs, **kwargs)\n"
     ]
    },
    {
     "data": {
      "text/plain": "count    14909.000000\nmean         4.094238\nstd          1.407858\nmin          0.000000\n25%          3.000000\n50%          4.000000\n75%          5.000000\nmax          9.000000\nName: level_duration, dtype: float64"
     },
     "execution_count": 117,
     "metadata": {},
     "output_type": "execute_result"
    }
   ],
   "source": [
    "focus_columns = ['level_duration',\n",
    "                 'ob_id_ramp', 'ob_id_lever', 'ob_id_spgbrd', 'ob_id_pendulum',\n",
    "                 'ob_id_weight', 'ob_comp_freeform', 'ob_comp_pin',\n",
    "                 'CompDiff', 'pre_total']\n",
    "\n",
    "data = pd.read_csv(\"~/Downloads/updated_BIG_data_1.csv\")[focus_columns].dropna() # Drop all NA values and select focus_columns\n",
    "\n",
    "predictors = data.drop(columns=['level_duration'])\n",
    "num_columns = predictors.shape[1] # for modeling building\n",
    "\n",
    "response = np.log(data.level_duration).replace([np.inf, -np.inf], np.nan).fillna(0).round(0)\n",
    "response.describe()\n"
   ]
  },
  {
   "cell_type": "code",
   "execution_count": 118,
   "outputs": [
    {
     "name": "stdout",
     "output_type": "stream",
     "text": [
      "There are 14909 rows and 10 columns.\n",
      "The predicted variable, level_duration, is column index: 0\n"
     ]
    }
   ],
   "source": [
    "num_columns = predictors.shape[1]\n",
    "print(f'There are {data.shape[0]} rows and {data.shape[1]} columns.')\n",
    "print(f\"The predicted variable, level_duration, is column index: {data.columns.get_loc('level_duration')}\")"
   ],
   "metadata": {
    "collapsed": false,
    "pycharm": {
     "name": "#%%\n"
    }
   }
  },
  {
   "cell_type": "code",
   "execution_count": 119,
   "metadata": {
    "pycharm": {
     "name": "#%%\n"
    }
   },
   "outputs": [
    {
     "name": "stdout",
     "output_type": "stream",
     "text": [
      "For X: Train: (11927, 9) Test:  (2982, 9)\n",
      "For Y: Train: (11927,) Test:  (2982,)\n"
     ]
    }
   ],
   "source": [
    "X_train, X_test, y_train, y_test = train_test_split(predictors, response, test_size=0.2)\n",
    "num_columns = X_train.shape[1]\n",
    "\n",
    "print(\"For X: Train:\", X_train.shape,\"Test: \", X_test.shape)\n",
    "print(\"For Y: Train:\", y_train.shape,\"Test: \", y_test.shape)"
   ]
  },
  {
   "cell_type": "markdown",
   "metadata": {
    "pycharm": {
     "name": "#%% md\n"
    }
   },
   "source": [
    "## Building and Fit the Model"
   ]
  },
  {
   "cell_type": "code",
   "execution_count": 120,
   "metadata": {
    "pycharm": {
     "name": "#%%\n"
    }
   },
   "outputs": [
    {
     "name": "stdout",
     "output_type": "stream",
     "text": [
      "Epoch 1/10\n",
      "11927/11927 [==============================] - 3s 269us/step - loss: 3.9224 - accuracy: 0.2408\n",
      "Epoch 2/10\n",
      "11927/11927 [==============================] - 2s 143us/step - loss: 1.6678 - accuracy: 0.3417\n",
      "Epoch 3/10\n",
      "11927/11927 [==============================] - 2s 142us/step - loss: 1.4268 - accuracy: 0.3822\n",
      "Epoch 4/10\n",
      "11927/11927 [==============================] - 2s 132us/step - loss: 1.3069 - accuracy: 0.4083\n",
      "Epoch 5/10\n",
      "11927/11927 [==============================] - 2s 141us/step - loss: 1.2270 - accuracy: 0.4211\n",
      "Epoch 6/10\n",
      "11927/11927 [==============================] - 2s 142us/step - loss: 1.1720 - accuracy: 0.4381\n",
      "Epoch 7/10\n",
      "11927/11927 [==============================] - 2s 153us/step - loss: 1.1375 - accuracy: 0.4491\n",
      "Epoch 8/10\n",
      "11927/11927 [==============================] - 2s 170us/step - loss: 1.1064 - accuracy: 0.4609\n",
      "Epoch 9/10\n",
      "11927/11927 [==============================] - 2s 190us/step - loss: 1.0902 - accuracy: 0.4634\n",
      "Epoch 10/10\n",
      "11927/11927 [==============================] - 2s 184us/step - loss: 1.0787 - accuracy: 0.4687\n"
     ]
    },
    {
     "data": {
      "text/plain": "<keras.callbacks.callbacks.History at 0x7fe8d8b48990>"
     },
     "execution_count": 120,
     "metadata": {},
     "output_type": "execute_result"
    }
   ],
   "source": [
    "model = Sequential()\n",
    "model.add(Dense(12, input_dim=num_columns, activation='relu', name='input'))\n",
    "model.add(Dense(6, activation='relu', name='hidden_6'))\n",
    "model.add(Dense(3, activation='relu', name='hidden_3'))\n",
    "model.add(Dense(1, activation='linear', name='exit'))\n",
    "\n",
    "\n",
    "#Compile\n",
    "model.compile(loss='mse',\n",
    "              optimizer='adam',\n",
    "              metrics = ['accuracy'])\n",
    "#Fit model\n",
    "model.fit(X_train, y_train, epochs=10, batch_size=20)"
   ]
  },
  {
   "cell_type": "code",
   "execution_count": 121,
   "outputs": [
    {
     "name": "stdout",
     "output_type": "stream",
     "text": [
      "Test loss: 1.1544533402307333\n",
      "Test Accuracy: 0.4637826979160309\n"
     ]
    }
   ],
   "source": [
    "score = model.evaluate(X_test, y_test, verbose = 0)\n",
    "print('Test loss:', score[0])\n",
    "print('Test Accuracy:', score[1])"
   ],
   "metadata": {
    "collapsed": false,
    "pycharm": {
     "name": "#%%\n"
    }
   }
  },
  {
   "cell_type": "code",
   "execution_count": 122,
   "outputs": [
    {
     "name": "stdout",
     "output_type": "stream",
     "text": [
      "Model: \"sequential_12\"\n",
      "_________________________________________________________________\n",
      "Layer (type)                 Output Shape              Param #   \n",
      "=================================================================\n",
      "input (Dense)                (None, 12)                120       \n",
      "_________________________________________________________________\n",
      "hidden_6 (Dense)             (None, 6)                 78        \n",
      "_________________________________________________________________\n",
      "hidden_3 (Dense)             (None, 3)                 21        \n",
      "_________________________________________________________________\n",
      "exit (Dense)                 (None, 1)                 4         \n",
      "=================================================================\n",
      "Total params: 223\n",
      "Trainable params: 223\n",
      "Non-trainable params: 0\n",
      "_________________________________________________________________\n",
      "None\n"
     ]
    }
   ],
   "source": [
    "print(model.summary())"
   ],
   "metadata": {
    "collapsed": false,
    "pycharm": {
     "name": "#%%\n"
    }
   }
  },
  {
   "cell_type": "code",
   "execution_count": 131,
   "outputs": [
    {
     "data": {
      "text/plain": "<Figure size 432x288 with 1 Axes>",
      "image/png": "[encoded data removed]"
     },
     "metadata": {
      "needs_background": "light"
     },
     "output_type": "display_data"
    }
   ],
   "source": [
    "from sklearn.metrics import confusion_matrix\n",
    "from seaborn import heatmap\n",
    "\n",
    "y_predicted = model.predict(X_test).round(0)\n",
    "conf_mat = confusion_matrix(y_test, y_predicted)\n",
    "heatmap(conf_mat, square=True, annot=True, cmap='Blues', fmt='d', cbar=False, )\n",
    "plt.savefig('conf_mat.png', dpi=300)"
   ],
   "metadata": {
    "collapsed": false,
    "pycharm": {
     "name": "#%%\n"
    }
   }
  },
  {
   "cell_type": "code",
   "execution_count": null,
   "outputs": [],
   "source": [],
   "metadata": {
    "collapsed": false,
    "pycharm": {
     "name": "#%%\n"
    }
   }
  }
 ],
 "metadata": {
  "kernelspec": {
   "display_name": "Python 3 (ipykernel)",
   "language": "python",
   "name": "python3"
  },
  "language_info": {
   "codemirror_mode": {
    "name": "ipython",
    "version": 3
   },
   "file_extension": ".py",
   "mimetype": "text/x-python",
   "name": "python",
   "nbconvert_exporter": "python",
   "pygments_lexer": "ipython3",
   "version": "3.8.5"
  }
 },
 "nbformat": 4,
 "nbformat_minor": 5
}